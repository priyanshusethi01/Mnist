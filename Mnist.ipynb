{
 "cells": [
  {
   "cell_type": "code",
   "execution_count": null,
   "id": "preliminary-track",
   "metadata": {
    "_cell_guid": "b1076dfc-b9ad-4769-8c92-a6c4dae69d19",
    "_uuid": "8f2839f25d086af736a60e9eeb907d3b93b6e0e5",
    "execution": {
     "iopub.execute_input": "2022-11-17T17:42:08.877416Z",
     "iopub.status.busy": "2022-11-17T17:42:08.876606Z",
     "iopub.status.idle": "2022-11-17T17:42:08.890798Z",
     "shell.execute_reply": "2022-11-17T17:42:08.890264Z",
     "shell.execute_reply.started": "2022-11-17T17:30:43.555380Z"
    },
    "papermill": {
     "duration": 0.028002,
     "end_time": "2022-11-17T17:42:08.890924",
     "exception": false,
     "start_time": "2022-11-17T17:42:08.862922",
     "status": "completed"
    },
    "tags": []
   },
   "outputs": [],
   "source": [
    "# This Python 3 environment comes with many helpful analytics libraries installed\n",
    "# It is defined by the kaggle/python Docker image: https://github.com/kaggle/docker-python\n",
    "# For example, here's several helpful packages to load\n",
    "\n",
    "import numpy as np # linear algebra\n",
    "import pandas as pd # data processing, CSV file I/O (e.g. pd.read_csv)\n",
    "\n",
    "# Input data files are available in the read-only \"../input/\" directory\n",
    "# For example, running this (by clicking run or pressing Shift+Enter) will list all files under the input directory\n",
    "\n",
    "import os\n",
    "for dirname, _, filenames in os.walk('/kaggle/input'):\n",
    "    for filename in filenames:\n",
    "        print(os.path.join(dirname, filename))\n",
    "\n",
    "# You can write up to 20GB to the current directory (/kaggle/working/) that gets preserved as output when you create a version using \"Save & Run All\" \n",
    "# You can also write temporary files to /kaggle/temp/, but they won't be saved outside of the current session"
   ]
  },
  {
   "cell_type": "code",
   "execution_count": null,
   "id": "confident-hazard",
   "metadata": {
    "execution": {
     "iopub.execute_input": "2022-11-17T17:42:08.913215Z",
     "iopub.status.busy": "2022-11-17T17:42:08.912580Z",
     "iopub.status.idle": "2022-11-17T17:42:13.038327Z",
     "shell.execute_reply": "2022-11-17T17:42:13.037797Z",
     "shell.execute_reply.started": "2022-11-17T17:30:43.570694Z"
    },
    "papermill": {
     "duration": 4.137982,
     "end_time": "2022-11-17T17:42:13.038473",
     "exception": false,
     "start_time": "2022-11-17T17:42:08.900491",
     "status": "completed"
    },
    "tags": []
   },
   "outputs": [],
   "source": [
    "# MNIST Handwritten Digit Classification . This is one of the interesting machine learning projects.\n",
    "# Deep Learning and neural networks have found use cases in many real-world applications like image recognition, automatic text generation, driverless cars, and much more. \n",
    "# The MNIST digit classification project is designed to train machines to recognize handwritten digits. \n",
    "# In this project, you will use the MNIST datasets to train your ML model using Convolutional Neural Networks (CNNs).\n",
    "\n",
    "# importing the required libraries...\n",
    "\n",
    "import tensorflow as tf\n",
    "import numpy as np\n",
    "import pandas as pd\n",
    "import matplotlib.pyplot as plt"
   ]
  },
  {
   "cell_type": "code",
   "execution_count": null,
   "id": "organized-expert",
   "metadata": {
    "execution": {
     "iopub.execute_input": "2022-11-17T17:42:13.061843Z",
     "iopub.status.busy": "2022-11-17T17:42:13.061330Z",
     "iopub.status.idle": "2022-11-17T17:42:16.050154Z",
     "shell.execute_reply": "2022-11-17T17:42:16.050580Z",
     "shell.execute_reply.started": "2022-11-17T17:30:43.577825Z"
    },
    "papermill": {
     "duration": 3.002978,
     "end_time": "2022-11-17T17:42:16.050730",
     "exception": false,
     "start_time": "2022-11-17T17:42:13.047752",
     "status": "completed"
    },
    "tags": []
   },
   "outputs": [],
   "source": [
    "# Reading the MNIST dataset.\n",
    "\n",
    "train = pd.read_csv(\"/kaggle/input/hackathon2021/train.csv/train.csv\")\n",
    "print(train.shape)\n",
    "train.head()\n"
   ]
  },
  {
   "cell_type": "code",
   "execution_count": null,
   "id": "packed-clearing",
   "metadata": {
    "execution": {
     "iopub.execute_input": "2022-11-17T17:42:16.075334Z",
     "iopub.status.busy": "2022-11-17T17:42:16.074797Z",
     "iopub.status.idle": "2022-11-17T17:42:17.899051Z",
     "shell.execute_reply": "2022-11-17T17:42:17.899701Z",
     "shell.execute_reply.started": "2022-11-17T17:30:45.760134Z"
    },
    "papermill": {
     "duration": 1.839433,
     "end_time": "2022-11-17T17:42:17.899906",
     "exception": false,
     "start_time": "2022-11-17T17:42:16.060473",
     "status": "completed"
    },
    "tags": []
   },
   "outputs": [],
   "source": [
    "test= pd.read_csv(\"/kaggle/input/hackathon2021/test.csv/test.csv\")\n",
    "print(test.shape)\n",
    "test.head()"
   ]
  },
  {
   "cell_type": "code",
   "execution_count": null,
   "id": "balanced-offense",
   "metadata": {
    "execution": {
     "iopub.execute_input": "2022-11-17T17:42:18.005832Z",
     "iopub.status.busy": "2022-11-17T17:42:18.004298Z",
     "iopub.status.idle": "2022-11-17T17:42:18.029066Z",
     "shell.execute_reply": "2022-11-17T17:42:18.028592Z",
     "shell.execute_reply.started": "2022-11-17T17:30:47.029590Z"
    },
    "papermill": {
     "duration": 0.118374,
     "end_time": "2022-11-17T17:42:18.029198",
     "exception": false,
     "start_time": "2022-11-17T17:42:17.910824",
     "status": "completed"
    },
    "tags": []
   },
   "outputs": [],
   "source": [
    "# Processing of data :\n",
    "# The images from the data set have the size 28 x 28. \n",
    "# Every line of these files consists of an image, i.e. 785 numbers between 0 and 255.\n",
    "# The first number of each line is the label, i.e. the digit which is depicted in the image. \n",
    "# The following 784 numbers are the pixels of the 28 x 28 image.\n",
    "\n",
    "\n",
    "# Removing the labels from training set.\n",
    "X = train.drop('label',axis=1)\n",
    "Y = train['label']\n",
    "# Detect missing values for an array-like object.\n",
    "X.isnull().any().describe()\n",
    "# NumPy arrays have an attribute called shape. The shape of an array is the number of elements in each dimension.\n",
    "X.shape\n",
    "# '-1' keeps the number of data as it, values convert the dataframe to arrays and '1' is grayscale.\n",
    "\n",
    "X = X.values.reshape(-1, 28,28,1)"
   ]
  },
  {
   "cell_type": "code",
   "execution_count": null,
   "id": "romance-least",
   "metadata": {
    "execution": {
     "iopub.execute_input": "2022-11-17T17:42:18.054929Z",
     "iopub.status.busy": "2022-11-17T17:42:18.054162Z",
     "iopub.status.idle": "2022-11-17T17:42:18.058950Z",
     "shell.execute_reply": "2022-11-17T17:42:18.059437Z",
     "shell.execute_reply.started": "2022-11-17T17:30:47.130605Z"
    },
    "papermill": {
     "duration": 0.019472,
     "end_time": "2022-11-17T17:42:18.059584",
     "exception": false,
     "start_time": "2022-11-17T17:42:18.040112",
     "status": "completed"
    },
    "tags": []
   },
   "outputs": [],
   "source": [
    "X.shape\n"
   ]
  },
  {
   "cell_type": "code",
   "execution_count": null,
   "id": "threatened-turkish",
   "metadata": {
    "execution": {
     "iopub.execute_input": "2022-11-17T17:42:18.089318Z",
     "iopub.status.busy": "2022-11-17T17:42:18.088271Z",
     "iopub.status.idle": "2022-11-17T17:42:20.358653Z",
     "shell.execute_reply": "2022-11-17T17:42:20.359253Z",
     "shell.execute_reply.started": "2022-11-17T17:30:47.139594Z"
    },
    "papermill": {
     "duration": 2.289363,
     "end_time": "2022-11-17T17:42:20.359495",
     "exception": false,
     "start_time": "2022-11-17T17:42:18.070132",
     "status": "completed"
    },
    "tags": []
   },
   "outputs": [],
   "source": [
    "# Normalizing the data\n",
    "\n",
    "\n",
    "# the algorithm converges faster on [0 to 1] data than on [0 to 255]. \n",
    "# The images of the MNIST dataset are greyscale and the pixels range between 0 and 255 including both bounding values. \n",
    "# We will map these values into an interval from [0.01 to 1] by multiplying each pixel by 0.99 / 255 and adding 0.01 to the result. \n",
    "# This way, we avoid 0 values as inputs, which are capable of preventing weight updates.\n",
    "\n",
    "X = np.array(X, dtype=\"float\") / 255.0 * 0.99 + 0.01\n",
    "# Now creating CNN model consisting of three Convolutional layers and two fully connected layers.\n",
    "\n",
    "model = tf.keras.models.Sequential([\n",
    "    tf.keras.layers.Conv2D(64, (3,3), activation='relu', input_shape=(28,28,1)),\n",
    "    tf.keras.layers.MaxPooling2D(2,2),\n",
    "    tf.keras.layers.Conv2D(128, (3,3), activation='relu'),\n",
    "    tf.keras.layers.MaxPooling2D(2,2),\n",
    "    tf.keras.layers.Flatten(),\n",
    "    tf.keras.layers.Dropout(0.5),\n",
    "    tf.keras.layers.Dense(256, activation='relu'),\n",
    "    tf.keras.layers.Dense(10, activation='softmax')])\n",
    "\n",
    "model.summary() #model summary\n",
    "\n",
    "# compiling the model\n",
    "\n",
    "model.compile(\n",
    "    optimizer='adam',\n",
    "    loss = 'sparse_categorical_crossentropy',\n",
    "    metrics = ['acc']) "
   ]
  },
  {
   "cell_type": "code",
   "execution_count": null,
   "id": "realistic-converter",
   "metadata": {
    "execution": {
     "iopub.execute_input": "2022-11-17T17:42:20.386293Z",
     "iopub.status.busy": "2022-11-17T17:42:20.385688Z",
     "iopub.status.idle": "2022-11-17T17:43:01.819534Z",
     "shell.execute_reply": "2022-11-17T17:43:01.820521Z",
     "shell.execute_reply.started": "2022-11-17T17:30:47.361204Z"
    },
    "papermill": {
     "duration": 41.449562,
     "end_time": "2022-11-17T17:43:01.820726",
     "exception": false,
     "start_time": "2022-11-17T17:42:20.371164",
     "status": "completed"
    },
    "tags": []
   },
   "outputs": [],
   "source": [
    "model.fit(X,Y,epochs=20,batch_size=70)"
   ]
  },
  {
   "cell_type": "code",
   "execution_count": null,
   "id": "institutional-deadline",
   "metadata": {
    "execution": {
     "iopub.execute_input": "2022-11-17T17:43:02.291883Z",
     "iopub.status.busy": "2022-11-17T17:43:02.290837Z",
     "iopub.status.idle": "2022-11-17T17:43:02.357399Z",
     "shell.execute_reply": "2022-11-17T17:43:02.356899Z",
     "shell.execute_reply.started": "2022-11-17T17:38:39.070077Z"
    },
    "papermill": {
     "duration": 0.26983,
     "end_time": "2022-11-17T17:43:02.357542",
     "exception": false,
     "start_time": "2022-11-17T17:43:02.087712",
     "status": "completed"
    },
    "tags": []
   },
   "outputs": [],
   "source": [
    "test = test.values.reshape(28000,28,28,1)\n",
    "test = test/225"
   ]
  },
  {
   "cell_type": "code",
   "execution_count": null,
   "id": "honey-grant",
   "metadata": {
    "execution": {
     "iopub.execute_input": "2022-11-17T17:43:02.748533Z",
     "iopub.status.busy": "2022-11-17T17:43:02.746690Z",
     "iopub.status.idle": "2022-11-17T17:43:03.688952Z",
     "shell.execute_reply": "2022-11-17T17:43:03.687768Z",
     "shell.execute_reply.started": "2022-11-17T17:38:48.608456Z"
    },
    "papermill": {
     "duration": 1.139758,
     "end_time": "2022-11-17T17:43:03.689092",
     "exception": false,
     "start_time": "2022-11-17T17:43:02.549334",
     "status": "completed"
    },
    "tags": []
   },
   "outputs": [],
   "source": [
    "#converting predictions to csv file\n",
    "test_y = np.argmax(model.predict(test),axis =1)\n",
    "# df_submission = pd.DataFrame([test.index+1,test_y],[\"IMAGEID\",\"LABEL\"]).transpose()\n",
    "# df_submission.to_csv(\"prediction3.csv\",index=False)"
   ]
  },
  {
   "cell_type": "code",
   "execution_count": null,
   "id": "random-forestry",
   "metadata": {
    "execution": {
     "iopub.execute_input": "2022-11-17T17:43:04.081379Z",
     "iopub.status.busy": "2022-11-17T17:43:04.080428Z",
     "iopub.status.idle": "2022-11-17T17:43:04.958534Z",
     "shell.execute_reply": "2022-11-17T17:43:04.958003Z",
     "shell.execute_reply.started": "2022-11-17T17:38:55.811771Z"
    },
    "papermill": {
     "duration": 1.074952,
     "end_time": "2022-11-17T17:43:04.958682",
     "exception": false,
     "start_time": "2022-11-17T17:43:03.883730",
     "status": "completed"
    },
    "tags": []
   },
   "outputs": [],
   "source": [
    "predictions = model.predict(test)\n",
    "results = predictions.argmax(axis=-1)"
   ]
  },
  {
   "cell_type": "code",
   "execution_count": null,
   "id": "behavioral-jackson",
   "metadata": {
    "execution": {
     "iopub.execute_input": "2022-11-17T17:43:05.347561Z",
     "iopub.status.busy": "2022-11-17T17:43:05.346658Z",
     "iopub.status.idle": "2022-11-17T17:43:05.495777Z",
     "shell.execute_reply": "2022-11-17T17:43:05.495090Z"
    },
    "papermill": {
     "duration": 0.346781,
     "end_time": "2022-11-17T17:43:05.495927",
     "exception": false,
     "start_time": "2022-11-17T17:43:05.149146",
     "status": "completed"
    },
    "tags": []
   },
   "outputs": [],
   "source": [
    "result = pd.DataFrame()\n",
    "result['ImageId'] = list(range(1,28001))\n",
    "result['Label'] = results\n",
    "result.to_csv(\"output.csv\", index = False)"
   ]
  },
  {
   "cell_type": "code",
   "execution_count": null,
   "id": "advance-alexander",
   "metadata": {
    "execution": {
     "iopub.execute_input": "2022-11-17T17:43:05.897860Z",
     "iopub.status.busy": "2022-11-17T17:43:05.896943Z",
     "iopub.status.idle": "2022-11-17T17:43:06.025063Z",
     "shell.execute_reply": "2022-11-17T17:43:06.025528Z",
     "shell.execute_reply.started": "2022-11-17T17:39:00.010444Z"
    },
    "papermill": {
     "duration": 0.340228,
     "end_time": "2022-11-17T17:43:06.025685",
     "exception": false,
     "start_time": "2022-11-17T17:43:05.685457",
     "status": "completed"
    },
    "tags": []
   },
   "outputs": [],
   "source": [
    "print(\"test of output at id 3345 is {}\".format(test_y[256]))\n",
    "plt.imshow(test[256])"
   ]
  }
 ],
 "metadata": {
  "kernelspec": {
   "display_name": "Python 3",
   "language": "python",
   "name": "python3"
  },
  "language_info": {
   "codemirror_mode": {
    "name": "ipython",
    "version": 3
   },
   "file_extension": ".py",
   "mimetype": "text/x-python",
   "name": "python",
   "nbconvert_exporter": "python",
   "pygments_lexer": "ipython3",
   "version": "3.7.9"
  },
  "papermill": {
   "default_parameters": {},
   "duration": 63.424491,
   "end_time": "2022-11-17T17:43:07.628185",
   "environment_variables": {},
   "exception": null,
   "input_path": "__notebook__.ipynb",
   "output_path": "__notebook__.ipynb",
   "parameters": {},
   "start_time": "2022-11-17T17:42:04.203694",
   "version": "2.3.2"
  }
 },
 "nbformat": 4,
 "nbformat_minor": 5
}
